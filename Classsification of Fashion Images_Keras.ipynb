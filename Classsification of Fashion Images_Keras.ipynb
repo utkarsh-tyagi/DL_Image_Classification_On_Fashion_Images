{
  "nbformat": 4,
  "nbformat_minor": 0,
  "metadata": {
    "colab": {
      "name": "TensorFlow with GPU",
      "provenance": [],
      "collapsed_sections": []
    },
    "kernelspec": {
      "name": "python3",
      "display_name": "Python 3"
    },
    "accelerator": "GPU"
  },
  "cells": [
    {
      "cell_type": "markdown",
      "metadata": {
        "colab_type": "text",
        "id": "tMce8muBqXQP"
      },
      "source": [
        "# Tensorflow with GPU\n",
        "\n",
        "This notebook provides an introduction to computing on a [GPU](https://cloud.google.com/gpu) in Colab. In this notebook you will connect to a GPU, and then run some basic TensorFlow operations on both the CPU and a GPU, observing the speedup provided by using the GPU.\n"
      ]
    },
    {
      "cell_type": "markdown",
      "metadata": {
        "colab_type": "text",
        "id": "oM_8ELnJq_wd"
      },
      "source": [
        "## Enabling and testing the GPU\n",
        "\n",
        "First, you'll need to enable GPUs for the notebook:\n",
        "\n",
        "- Navigate to Edit→Notebook Settings\n",
        "- select GPU from the Hardware Accelerator drop-down\n",
        "\n",
        "Next, we'll confirm that we can connect to the GPU with tensorflow:"
      ]
    },
    {
      "cell_type": "code",
      "metadata": {
        "colab_type": "code",
        "id": "sXnDmXR7RDr2",
        "outputId": "15fff518-8546-4701-9fa7-55063981659b",
        "colab": {
          "base_uri": "https://localhost:8080/",
          "height": 50
        }
      },
      "source": [
        "%tensorflow_version 2.x\n",
        "import tensorflow as tf\n",
        "device_name = tf.test.gpu_device_name()\n",
        "if device_name != '/device:GPU:0':\n",
        "  raise SystemError('GPU device not found')\n",
        "print('Found GPU at: {}'.format(device_name))"
      ],
      "execution_count": 1,
      "outputs": [
        {
          "output_type": "stream",
          "text": [
            "TensorFlow 2.x selected.\n",
            "Found GPU at: /device:GPU:0\n"
          ],
          "name": "stdout"
        }
      ]
    },
    {
      "cell_type": "code",
      "metadata": {
        "id": "JAkMESqy_nc2",
        "colab_type": "code",
        "colab": {}
      },
      "source": [
        ""
      ],
      "execution_count": 0,
      "outputs": []
    },
    {
      "cell_type": "code",
      "metadata": {
        "id": "_4oaDhkw_xJP",
        "colab_type": "code",
        "colab": {}
      },
      "source": [
        "from tensorflow import keras"
      ],
      "execution_count": 0,
      "outputs": []
    },
    {
      "cell_type": "code",
      "metadata": {
        "id": "0Ixg-qax_nw8",
        "colab_type": "code",
        "colab": {}
      },
      "source": [
        "import numpy as np\n",
        "import matplotlib.pyplot as plt"
      ],
      "execution_count": 0,
      "outputs": []
    },
    {
      "cell_type": "code",
      "metadata": {
        "id": "BeovR9bDAE4I",
        "colab_type": "code",
        "colab": {}
      },
      "source": [
        "data=keras.datasets.fashion_mnist    "
      ],
      "execution_count": 0,
      "outputs": []
    },
    {
      "cell_type": "code",
      "metadata": {
        "id": "lsyLL9dpAe9c",
        "colab_type": "code",
        "colab": {
          "base_uri": "https://localhost:8080/",
          "height": 171
        },
        "outputId": "e5d95d65-a19e-497e-fb2f-7adbcf165cb4"
      },
      "source": [
        "(train_images,train_labels),(test_images,test_labels)=data.load_data()"
      ],
      "execution_count": 8,
      "outputs": [
        {
          "output_type": "stream",
          "text": [
            "Downloading data from https://storage.googleapis.com/tensorflow/tf-keras-datasets/train-labels-idx1-ubyte.gz\n",
            "32768/29515 [=================================] - 0s 0us/step\n",
            "Downloading data from https://storage.googleapis.com/tensorflow/tf-keras-datasets/train-images-idx3-ubyte.gz\n",
            "26427392/26421880 [==============================] - 0s 0us/step\n",
            "Downloading data from https://storage.googleapis.com/tensorflow/tf-keras-datasets/t10k-labels-idx1-ubyte.gz\n",
            "8192/5148 [===============================================] - 0s 0us/step\n",
            "Downloading data from https://storage.googleapis.com/tensorflow/tf-keras-datasets/t10k-images-idx3-ubyte.gz\n",
            "4423680/4422102 [==============================] - 0s 0us/step\n"
          ],
          "name": "stdout"
        }
      ]
    },
    {
      "cell_type": "code",
      "metadata": {
        "id": "VENqlw3gA3Ce",
        "colab_type": "code",
        "colab": {
          "base_uri": "https://localhost:8080/",
          "height": 34
        },
        "outputId": "c588571f-56c3-4a80-afd7-23c05eabccf5"
      },
      "source": [
        "train_images.shape"
      ],
      "execution_count": 14,
      "outputs": [
        {
          "output_type": "execute_result",
          "data": {
            "text/plain": [
              "(60000, 28, 28)"
            ]
          },
          "metadata": {
            "tags": []
          },
          "execution_count": 14
        }
      ]
    },
    {
      "cell_type": "code",
      "metadata": {
        "id": "3hbwxtDbA7hn",
        "colab_type": "code",
        "colab": {
          "base_uri": "https://localhost:8080/",
          "height": 34
        },
        "outputId": "c46cd033-f2a6-48c7-9959-6e584b371da8"
      },
      "source": [
        "train_labels"
      ],
      "execution_count": 15,
      "outputs": [
        {
          "output_type": "execute_result",
          "data": {
            "text/plain": [
              "array([9, 0, 0, ..., 3, 0, 5], dtype=uint8)"
            ]
          },
          "metadata": {
            "tags": []
          },
          "execution_count": 15
        }
      ]
    },
    {
      "cell_type": "code",
      "metadata": {
        "id": "B7z59IfGBHsg",
        "colab_type": "code",
        "colab": {}
      },
      "source": [
        "\n",
        "class_names=[\"T-shirt/top\",\"Trouser\",\"Pullover\",\"Dress\",\"Coat\",\"Sandal\",\"Shirt\",\"Sneaker\",\"Bag\",\"Ankle boot\"]"
      ],
      "execution_count": 0,
      "outputs": []
    },
    {
      "cell_type": "code",
      "metadata": {
        "id": "QzS6tj1qBoFL",
        "colab_type": "code",
        "colab": {}
      },
      "source": [
        "import seaborn as sns"
      ],
      "execution_count": 0,
      "outputs": []
    },
    {
      "cell_type": "code",
      "metadata": {
        "id": "OHyg6LF7B5gd",
        "colab_type": "code",
        "colab": {
          "base_uri": "https://localhost:8080/",
          "height": 265
        },
        "outputId": "e8a7733b-40f4-48fc-ea98-83729b8044a9"
      },
      "source": [
        "plt.imshow(train_images[15])\n",
        "plt.colorbar()\n",
        "plt.show()"
      ],
      "execution_count": 22,
      "outputs": [
        {
          "output_type": "display_data",
          "data": {
            "image/png": "[encoded data removed]",
            "text/plain": [
              "<Figure size 432x288 with 2 Axes>"
            ]
          },
          "metadata": {
            "tags": []
          }
        }
      ]
    },
    {
      "cell_type": "code",
      "metadata": {
        "id": "Gl1WyCdzBzbW",
        "colab_type": "code",
        "colab": {}
      },
      "source": [
        "# as we can see that the images pixels are in range 0 to 255, and thus we first need to convert them in range of 0 to 1"
      ],
      "execution_count": 0,
      "outputs": []
    },
    {
      "cell_type": "code",
      "metadata": {
        "id": "R7k9OMt8DAPU",
        "colab_type": "code",
        "colab": {}
      },
      "source": [
        "train_images=train_images/255.0\n",
        "test_images=test_images/255.0\n"
      ],
      "execution_count": 0,
      "outputs": []
    },
    {
      "cell_type": "code",
      "metadata": {
        "id": "q70R9I5QDLK5",
        "colab_type": "code",
        "colab": {
          "base_uri": "https://localhost:8080/",
          "height": 269
        },
        "outputId": "d147fcdf-09b3-4f25-d557-d7d49c3f379c"
      },
      "source": [
        "plt.imshow(train_images[15])\n",
        "plt.colorbar()\n",
        "plt.show()"
      ],
      "execution_count": 25,
      "outputs": [
        {
          "output_type": "display_data",
          "data": {
            "image/png": "[encoded data removed]",
            "text/plain": [
              "<Figure size 432x288 with 2 Axes>"
            ]
          },
          "metadata": {
            "tags": []
          }
        }
      ]
    },
    {
      "cell_type": "code",
      "metadata": {
        "id": "Y1s-n5JxDOgK",
        "colab_type": "code",
        "colab": {}
      },
      "source": [
        ""
      ],
      "execution_count": 0,
      "outputs": []
    },
    {
      "cell_type": "code",
      "metadata": {
        "id": "6ZV0VP2NDns8",
        "colab_type": "code",
        "colab": {
          "base_uri": "https://localhost:8080/",
          "height": 589
        },
        "outputId": "24c88bbe-2983-4f9e-b091-942a67e4ef0d"
      },
      "source": [
        "plt.figure(figsize=[10,10])\n",
        "for i in range(25):\n",
        "  plt.subplot(5,5,i+1)\n",
        "  plt.xticks([])\n",
        "  plt.yticks([])\n",
        "  plt.imshow(train_images[i],cmap=plt.cm.binary)\n",
        "  plt.xlabel(class_names[train_labels[i]])\n",
        "plt.show()"
      ],
      "execution_count": 29,
      "outputs": [
        {
          "output_type": "display_data",
          "data": {
            "image/png": "[encoded data removed]",
            "text/plain": [
              "<Figure size 720x720 with 25 Axes>"
            ]
          },
          "metadata": {
            "tags": []
          }
        }
      ]
    },
    {
      "cell_type": "code",
      "metadata": {
        "id": "Eyq2SafvEGcN",
        "colab_type": "code",
        "colab": {}
      },
      "source": [
        ""
      ],
      "execution_count": 0,
      "outputs": []
    },
    {
      "cell_type": "code",
      "metadata": {
        "id": "Bmw5ziBVEvUc",
        "colab_type": "code",
        "colab": {}
      },
      "source": [
        ""
      ],
      "execution_count": 0,
      "outputs": []
    },
    {
      "cell_type": "code",
      "metadata": {
        "id": "e3n8wi2kEvZ9",
        "colab_type": "code",
        "colab": {}
      },
      "source": [
        "model=keras.Sequential([\n",
        "                        keras.layers.Flatten(input_shape=(28,28)),   # to flatten 2d layer into 1d # has no parameters to learn but reform the data\n",
        "                        keras.layers.Dense(128,activation=tf.nn.relu),\n",
        "                        keras.layers.Dense(64,activation=tf.nn.relu),  # Fully connected dense layer of 128 neurons\n",
        "                        keras.layers.Dense(32,activation=tf.nn.relu), \n",
        "                        keras.layers.Dense(10,activation=tf.nn.softmax)   # This is the softmax layer , each node contain probability scores                  \n",
        "])"
      ],
      "execution_count": 0,
      "outputs": []
    },
    {
      "cell_type": "code",
      "metadata": {
        "id": "D2vrbeh9FUN1",
        "colab_type": "code",
        "colab": {}
      },
      "source": [
        "# Compile the model"
      ],
      "execution_count": 0,
      "outputs": []
    },
    {
      "cell_type": "code",
      "metadata": {
        "id": "Ynf08Or0FdLd",
        "colab_type": "code",
        "colab": {}
      },
      "source": [
        "model.compile(optimizer=\"adam\",loss=\"sparse_categorical_crossentropy\",metrics=[\"accuracy\"])"
      ],
      "execution_count": 0,
      "outputs": []
    },
    {
      "cell_type": "code",
      "metadata": {
        "id": "g9e_vmffG9sD",
        "colab_type": "code",
        "colab": {}
      },
      "source": [
        ""
      ],
      "execution_count": 0,
      "outputs": []
    },
    {
      "cell_type": "code",
      "metadata": {
        "id": "Ck8-H9U6G_Xv",
        "colab_type": "code",
        "colab": {
          "base_uri": "https://localhost:8080/",
          "height": 406
        },
        "outputId": "0f6e5905-5156-4838-cef4-409a439358c5"
      },
      "source": [
        "model.fit(train_images,train_labels,epochs=10)"
      ],
      "execution_count": 71,
      "outputs": [
        {
          "output_type": "stream",
          "text": [
            "Train on 60000 samples\n",
            "Epoch 1/10\n",
            "60000/60000 [==============================] - 5s 78us/sample - loss: 0.5109 - accuracy: 0.8180\n",
            "Epoch 2/10\n",
            "60000/60000 [==============================] - 4s 74us/sample - loss: 0.3732 - accuracy: 0.8640\n",
            "Epoch 3/10\n",
            "60000/60000 [==============================] - 4s 71us/sample - loss: 0.3365 - accuracy: 0.8771\n",
            "Epoch 4/10\n",
            "60000/60000 [==============================] - 4s 72us/sample - loss: 0.3170 - accuracy: 0.8827\n",
            "Epoch 5/10\n",
            "60000/60000 [==============================] - 4s 70us/sample - loss: 0.2999 - accuracy: 0.8893\n",
            "Epoch 6/10\n",
            "60000/60000 [==============================] - 4s 74us/sample - loss: 0.2839 - accuracy: 0.8945\n",
            "Epoch 7/10\n",
            "60000/60000 [==============================] - 4s 72us/sample - loss: 0.2739 - accuracy: 0.8973\n",
            "Epoch 8/10\n",
            "60000/60000 [==============================] - 4s 72us/sample - loss: 0.2636 - accuracy: 0.9014\n",
            "Epoch 9/10\n",
            "60000/60000 [==============================] - 4s 70us/sample - loss: 0.2533 - accuracy: 0.9046\n",
            "Epoch 10/10\n",
            "60000/60000 [==============================] - 4s 71us/sample - loss: 0.2431 - accuracy: 0.9079\n"
          ],
          "name": "stdout"
        },
        {
          "output_type": "execute_result",
          "data": {
            "text/plain": [
              "<tensorflow.python.keras.callbacks.History at 0x7f7244a2a080>"
            ]
          },
          "metadata": {
            "tags": []
          },
          "execution_count": 71
        }
      ]
    },
    {
      "cell_type": "code",
      "metadata": {
        "id": "BLp8TnCKG_bB",
        "colab_type": "code",
        "colab": {}
      },
      "source": [
        ""
      ],
      "execution_count": 0,
      "outputs": []
    },
    {
      "cell_type": "code",
      "metadata": {
        "id": "eR2CU9qqHh04",
        "colab_type": "code",
        "colab": {}
      },
      "source": [
        ""
      ],
      "execution_count": 0,
      "outputs": []
    },
    {
      "cell_type": "code",
      "metadata": {
        "id": "atZaDTbTHhxA",
        "colab_type": "code",
        "colab": {
          "base_uri": "https://localhost:8080/",
          "height": 70
        },
        "outputId": "4587c33c-8b2b-4a3a-ef30-9133e70c4568"
      },
      "source": [
        "test_loss,test_acc=model.evaluate(test_images,test_labels)\n",
        "print(\"Test Accuracy\",test_acc)"
      ],
      "execution_count": 72,
      "outputs": [
        {
          "output_type": "stream",
          "text": [
            "10000/10000 [==============================] - 1s 71us/sample - loss: 0.3402 - accuracy: 0.8846\n",
            "Test Accuracy 0.8846\n"
          ],
          "name": "stdout"
        }
      ]
    },
    {
      "cell_type": "code",
      "metadata": {
        "id": "EzyfJCk3HvnW",
        "colab_type": "code",
        "colab": {}
      },
      "source": [
        "predictions=model.predict(test_images)"
      ],
      "execution_count": 0,
      "outputs": []
    },
    {
      "cell_type": "code",
      "metadata": {
        "id": "Xy5CHTS7H_UK",
        "colab_type": "code",
        "colab": {
          "base_uri": "https://localhost:8080/",
          "height": 67
        },
        "outputId": "706cb6ea-2354-4848-9680-75e5d6fa41ab"
      },
      "source": [
        "predictions[1]"
      ],
      "execution_count": 74,
      "outputs": [
        {
          "output_type": "execute_result",
          "data": {
            "text/plain": [
              "array([9.2191249e-06, 5.5978711e-10, 9.9793112e-01, 8.7266862e-08,\n",
              "       1.8593618e-03, 4.0154902e-16, 2.0006805e-04, 4.9957739e-17,\n",
              "       1.6430572e-09, 5.3277661e-15], dtype=float32)"
            ]
          },
          "metadata": {
            "tags": []
          },
          "execution_count": 74
        }
      ]
    },
    {
      "cell_type": "code",
      "metadata": {
        "id": "XK7_vtAdIDIK",
        "colab_type": "code",
        "colab": {}
      },
      "source": [
        ""
      ],
      "execution_count": 0,
      "outputs": []
    },
    {
      "cell_type": "code",
      "metadata": {
        "id": "RgfATCz-IPal",
        "colab_type": "code",
        "colab": {
          "base_uri": "https://localhost:8080/",
          "height": 34
        },
        "outputId": "836d314d-4992-41d5-e6b6-225031d02988"
      },
      "source": [
        "np.argmax(predictions[0])"
      ],
      "execution_count": 75,
      "outputs": [
        {
          "output_type": "execute_result",
          "data": {
            "text/plain": [
              "9"
            ]
          },
          "metadata": {
            "tags": []
          },
          "execution_count": 75
        }
      ]
    },
    {
      "cell_type": "code",
      "metadata": {
        "id": "J_dqFQtbIPhV",
        "colab_type": "code",
        "colab": {
          "base_uri": "https://localhost:8080/",
          "height": 34
        },
        "outputId": "cf687cb8-ddb4-4f11-96c4-4be15c480ff4"
      },
      "source": [
        "test_labels[0]"
      ],
      "execution_count": 76,
      "outputs": [
        {
          "output_type": "execute_result",
          "data": {
            "text/plain": [
              "9"
            ]
          },
          "metadata": {
            "tags": []
          },
          "execution_count": 76
        }
      ]
    },
    {
      "cell_type": "code",
      "metadata": {
        "id": "6ibIIjSQIPeE",
        "colab_type": "code",
        "colab": {
          "base_uri": "https://localhost:8080/",
          "height": 34
        },
        "outputId": "f3774449-01f3-450e-c68e-621ae5a96ea4"
      },
      "source": [
        "np.argmax(predictions[100])"
      ],
      "execution_count": 77,
      "outputs": [
        {
          "output_type": "execute_result",
          "data": {
            "text/plain": [
              "3"
            ]
          },
          "metadata": {
            "tags": []
          },
          "execution_count": 77
        }
      ]
    },
    {
      "cell_type": "code",
      "metadata": {
        "id": "i4ZwWOriIqML",
        "colab_type": "code",
        "colab": {
          "base_uri": "https://localhost:8080/",
          "height": 34
        },
        "outputId": "0081cef0-63da-4382-fac1-966382a3555a"
      },
      "source": [
        "test_labels[100]"
      ],
      "execution_count": 78,
      "outputs": [
        {
          "output_type": "execute_result",
          "data": {
            "text/plain": [
              "3"
            ]
          },
          "metadata": {
            "tags": []
          },
          "execution_count": 78
        }
      ]
    },
    {
      "cell_type": "code",
      "metadata": {
        "id": "3o8DUPqjIsms",
        "colab_type": "code",
        "colab": {}
      },
      "source": [
        "from sklearn.metrics import classification_report"
      ],
      "execution_count": 0,
      "outputs": []
    },
    {
      "cell_type": "code",
      "metadata": {
        "id": "Joj1JzlvKMfZ",
        "colab_type": "code",
        "colab": {}
      },
      "source": [
        "pred=[]\n",
        "for i in predictions:\n",
        "  pred.append(np.argmax(i))"
      ],
      "execution_count": 0,
      "outputs": []
    },
    {
      "cell_type": "code",
      "metadata": {
        "id": "aJxqHf4gItve",
        "colab_type": "code",
        "colab": {
          "base_uri": "https://localhost:8080/",
          "height": 302
        },
        "outputId": "d7ca5a58-158b-4db1-ef01-4341b78d40ce"
      },
      "source": [
        "print(classification_report(test_labels,pred))"
      ],
      "execution_count": 81,
      "outputs": [
        {
          "output_type": "stream",
          "text": [
            "              precision    recall  f1-score   support\n",
            "\n",
            "           0       0.83      0.84      0.84      1000\n",
            "           1       0.95      0.98      0.97      1000\n",
            "           2       0.79      0.81      0.80      1000\n",
            "           3       0.89      0.87      0.88      1000\n",
            "           4       0.80      0.82      0.81      1000\n",
            "           5       0.96      0.98      0.97      1000\n",
            "           6       0.73      0.67      0.70      1000\n",
            "           7       0.94      0.97      0.96      1000\n",
            "           8       0.97      0.98      0.97      1000\n",
            "           9       0.98      0.94      0.96      1000\n",
            "\n",
            "    accuracy                           0.88     10000\n",
            "   macro avg       0.88      0.88      0.88     10000\n",
            "weighted avg       0.88      0.88      0.88     10000\n",
            "\n"
          ],
          "name": "stdout"
        }
      ]
    },
    {
      "cell_type": "code",
      "metadata": {
        "id": "3uxDlx8_It2s",
        "colab_type": "code",
        "colab": {}
      },
      "source": [
        ""
      ],
      "execution_count": 0,
      "outputs": []
    },
    {
      "cell_type": "code",
      "metadata": {
        "id": "WJVCBJM-ItzG",
        "colab_type": "code",
        "colab": {}
      },
      "source": [
        ""
      ],
      "execution_count": 0,
      "outputs": []
    }
  ]
}